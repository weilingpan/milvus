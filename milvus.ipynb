{
 "cells": [
  {
   "cell_type": "code",
   "execution_count": 2,
   "id": "bd56e1a3-b74f-4c5c-a07e-74babd2c0db9",
   "metadata": {},
   "outputs": [
    {
     "name": "stdout",
     "output_type": "stream",
     "text": [
      "Python 3.10.9\n"
     ]
    }
   ],
   "source": [
    "!python --version"
   ]
  },
  {
   "cell_type": "markdown",
   "id": "2e32dd5d-0cb1-4257-82ba-4691b462bc49",
   "metadata": {},
   "source": [
    "## Milvus"
   ]
  },
  {
   "cell_type": "code",
   "execution_count": 1,
   "id": "8a25e173-99c9-4464-a3f2-1afb50a16a0b",
   "metadata": {},
   "outputs": [
    {
     "name": "stdout",
     "output_type": "stream",
     "text": [
      "\n",
      "Create connection...\n",
      "\n",
      "List connections:\n",
      "[('default', <pymilvus.client.grpc_handler.GrpcHandler object at 0x0000028A22707340>)]\n"
     ]
    }
   ],
   "source": [
    "from pymilvus import utility, Collection, DataType, IndexType, Milvus, connections\n",
    "\n",
    "_HOST = 'localhost'\n",
    "_PORT = '19530'\n",
    "\n",
    "print(f\"\\nCreate connection...\")\n",
    "conn = connections.connect(host=_HOST, port=_PORT)\n",
    "\n",
    "print(f\"\\nList connections:\")\n",
    "print(connections.list_connections())"
   ]
  },
  {
   "cell_type": "code",
   "execution_count": 2,
   "id": "25b782bd-4400-4317-915f-41e39fb74f5c",
   "metadata": {},
   "outputs": [],
   "source": [
    "def list_collections():\n",
    "    print(f\"=== list collections ===\")\n",
    "    lst_collections = utility.list_collections()\n",
    "    print(f\"{lst_collections}\\n\")\n",
    "\n",
    "def use_collection(collection_name: str):\n",
    "    # Load the collection\n",
    "    collection = Collection(name=collection_name)\n",
    "    return collection\n",
    "    \n",
    "def get_collection_entity(collection_name: str='tls_milvus') -> None:\n",
    "    print(f\"=== {collection_name} entity ===\")\n",
    "    collection = use_collection(collection_name)\n",
    "    print(f\"{collection_name} - The number of entity: {collection.num_entities}\\n\")\n",
    "    \n",
    "def get_collection_info(collection_name: str) -> None:\n",
    "    print(f\"=== {collection_name} info ===\")\n",
    "    milvus = Milvus(host='10.194.54.173', port='19530')\n",
    "    collection = use_collection(collection_name)\n",
    "    \n",
    "    # print(collection)\n",
    "    # print(f\"collection name: {collection.name}\")\n",
    "    # print(collection.description)\n",
    "    print(f'Num of entity: {collection.num_entities}')\n",
    "    print(f\"schema ---\")\n",
    "    for idx,field in enumerate(collection.schema.fields):\n",
    "        print(idx, field)\n",
    "    print()\n",
    "    \n",
    "def get_collection_data(collection_name: str, condition: str=\"page in [1,2]\") -> list:\n",
    "    collection = use_collection(collection_name)\n",
    "    res = collection.query(\n",
    "      expr = condition, \n",
    "      output_fields = [\"source\", \"page\", \"doc_id\", \"vector\", \"text\"],\n",
    "      consistency_level=\"Strong\"\n",
    "    )\n",
    "    return res\n",
    "    \n",
    "def drop_collection(collection_name: str) -> None:\n",
    "    collection = use_collection(collection_name)\n",
    "    collection.drop()\n",
    "    \n",
    "def delete_eneity(collection_name: str, condition: str):\n",
    "    collection = use_collection(collection_name)\n",
    "    collection.delete(condition)\n",
    "    \n",
    "def disconnect(db=\"default\"):\n",
    "    connections.disconnect(db)   "
   ]
  },
  {
   "cell_type": "code",
   "execution_count": 3,
   "id": "266aed6c-bb7c-49e0-9efb-303bcde2386a",
   "metadata": {},
   "outputs": [
    {
     "name": "stdout",
     "output_type": "stream",
     "text": [
      "=== list collections ===\n",
      "[]\n",
      "\n"
     ]
    }
   ],
   "source": [
    "list_collections()"
   ]
  },
  {
   "cell_type": "code",
   "execution_count": 4,
   "id": "f798e59d-6d17-4451-adbf-74d953abd81c",
   "metadata": {},
   "outputs": [],
   "source": [
    "# drop_collection('test_5g2')"
   ]
  },
  {
   "cell_type": "markdown",
   "id": "c4a2ff21-637f-4973-b19c-fd1cd1bbe61a",
   "metadata": {},
   "source": [
    "## PDF to Milvus"
   ]
  },
  {
   "cell_type": "code",
   "execution_count": 8,
   "id": "35437250-aa87-4a4d-8b6a-352e0b3f3581",
   "metadata": {},
   "outputs": [],
   "source": [
    "from langchain.text_splitter import RecursiveCharacterTextSplitter\n",
    "from langchain.document_loaders import PyPDFLoader\n",
    "from langchain.embeddings import HuggingFaceHubEmbeddings, HuggingFaceEmbeddings\n",
    "from langchain.vectorstores import Milvus\n",
    "\n",
    "class PdfToMilvus:\n",
    "    def __init__(self, doc_id: int, collection_name: str):\n",
    "        self.doc_id = doc_id\n",
    "        self.collection_name = collection_name\n",
    "        self.embeddings = HuggingFaceEmbeddings(\n",
    "            model_name=\"sentence-transformers/all-mpnet-base-v2\"\n",
    "        )\n",
    "        self.chunk_size = 500\n",
    "        self.chunk_overlap = 250\n",
    "        self.store_chunck = 100\n",
    "        self.MilvusHost = \"localhost\"\n",
    "        self.MilvusPort = 19530\n",
    "\n",
    "    def load_pdf(self, filepath: str) -> list:\n",
    "        self.filepath = filepath\n",
    "        doc = PyPDFLoader(self.filepath).load()\n",
    "        return doc\n",
    "\n",
    "    def split_text(self, doc) -> list:\n",
    "        docs_splitter = RecursiveCharacterTextSplitter(\n",
    "            chunk_size=self.chunk_size, chunk_overlap=self.chunk_overlap\n",
    "        )\n",
    "        sp_doc = docs_splitter.split_documents(doc)\n",
    "        return sp_doc\n",
    "\n",
    "    def transform_doc_to_vector_into_milvus(self, sp_doc):\n",
    "        for i in range(0, len(sp_doc), self.store_chunck):\n",
    "            store_doc = sp_doc[i : i + self.store_chunck]\n",
    "\n",
    "            vector_store = Milvus.from_documents(\n",
    "                documents=store_doc,\n",
    "                embedding=self.embeddings,\n",
    "                collection_name=self.collection_name,\n",
    "                connection_args={\n",
    "                    \"host\": self.MilvusHost,\n",
    "                    \"port\": self.MilvusPort,\n",
    "                },\n",
    "            )"
   ]
  },
  {
   "cell_type": "code",
   "execution_count": 9,
   "id": "02337a60-5af2-4ec3-ba28-4bc5e4f8d0b4",
   "metadata": {},
   "outputs": [
    {
     "name": "stdout",
     "output_type": "stream",
     "text": [
      "50\n",
      "<class 'list'>\n"
     ]
    }
   ],
   "source": [
    "# ================== settings ==================\n",
    "doc_id = 1\n",
    "collection_name = \"test_5g\"\n",
    "filepath = \"data/5G頻率政策與產業發展白皮書.pdf\"\n",
    "# ================== settings ==================\n",
    "\n",
    "pdf_to_milvus = PdfToMilvus(doc_id, collection_name)\n",
    "\n",
    "doc = pdf_to_milvus.load_pdf(filepath)\n",
    "sp_doc = pdf_to_milvus.split_text(doc)\n",
    "print(len(sp_doc))\n",
    "print(type(sp_doc))\n",
    "\n",
    "pdf_to_milvus.transform_doc_to_vector_into_milvus(sp_doc)"
   ]
  },
  {
   "cell_type": "code",
   "execution_count": null,
   "id": "3ff5782d-924f-4902-a7d6-5584d7cf61ac",
   "metadata": {},
   "outputs": [],
   "source": []
  },
  {
   "cell_type": "code",
   "execution_count": null,
   "id": "78efb696-c40c-4e8c-a553-176b006cc780",
   "metadata": {},
   "outputs": [],
   "source": []
  }
 ],
 "metadata": {
  "kernelspec": {
   "display_name": "RAG",
   "language": "python",
   "name": "rag"
  },
  "language_info": {
   "codemirror_mode": {
    "name": "ipython",
    "version": 3
   },
   "file_extension": ".py",
   "mimetype": "text/x-python",
   "name": "python",
   "nbconvert_exporter": "python",
   "pygments_lexer": "ipython3",
   "version": "3.10.13"
  }
 },
 "nbformat": 4,
 "nbformat_minor": 5
}
